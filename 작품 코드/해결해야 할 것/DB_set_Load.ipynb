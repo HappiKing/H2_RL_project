{
 "cells": [
  {
   "cell_type": "code",
   "execution_count": 2,
   "metadata": {},
   "outputs": [
    {
     "name": "stdout",
     "output_type": "stream",
     "text": [
      "Requirement already satisfied: mysql-connector-python in /opt/miniconda3/envs/hb/lib/python3.10/site-packages (8.4.0)\n",
      "Requirement already satisfied: beautifulsoup4 in /opt/miniconda3/envs/hb/lib/python3.10/site-packages (4.12.3)\n",
      "Requirement already satisfied: soupsieve>1.2 in /opt/miniconda3/envs/hb/lib/python3.10/site-packages (from beautifulsoup4) (2.5)\n"
     ]
    }
   ],
   "source": [
    "!pip install mysql-connector-python\n",
    "!pip install beautifulsoup4"
   ]
  },
  {
   "cell_type": "code",
   "execution_count": 2,
   "metadata": {},
   "outputs": [
    {
     "name": "stdout",
     "output_type": "stream",
     "text": [
      "MySQL 데이터베이스에 성공적으로 연결되었습니다.\n"
     ]
    }
   ],
   "source": [
    "import mysql.connector\n",
    "from mysql.connector import Error\n",
    "\n",
    "# 데이터베이스 연결 설정\n",
    "try :\n",
    "    connection = mysql.connector.connect(\n",
    "        host='112.167.124.86',          # 데이터베이스 서버 주소\n",
    "        user='root',      # 데이터베이스 사용자 이름\n",
    "        password='password',  # 사용자 비밀번호\n",
    "        database='Hydro_project'   # 접근할 데이터베이스 이름\n",
    "    )\n",
    "\n",
    "    if connection.is_connected():\n",
    "                print('MySQL 데이터베이스에 성공적으로 연결되었습니다.')\n",
    "                cursor = connection.cursor()\n",
    "\n",
    "except Error as e:\n",
    "        print(f\"MySQL 데이터베이스 에러: {e}\")"
   ]
  },
  {
   "cell_type": "markdown",
   "metadata": {},
   "source": [
    "# DB 제어(전체 부하)"
   ]
  },
  {
   "cell_type": "markdown",
   "metadata": {},
   "source": [
    "## 테이블 생성"
   ]
  },
  {
   "cell_type": "code",
   "execution_count": 10,
   "metadata": {},
   "outputs": [],
   "source": [
    "# 테이블 생성\n",
    "cursor.execute(f\"CREATE TABLE IF NOT EXISTS BUILDING_LOAD (일시 TIMESTAMP PRIMARY KEY, 5E VARCHAR(255), 4E VARCHAR(255), 2E VARCHAR(255), GR_E VARCHAR(255))\")"
   ]
  },
  {
   "cell_type": "markdown",
   "metadata": {},
   "source": [
    "## 전체 부하 환경"
   ]
  }
 ],
 "metadata": {
  "kernelspec": {
   "display_name": "hb",
   "language": "python",
   "name": "python3"
  },
  "language_info": {
   "codemirror_mode": {
    "name": "ipython",
    "version": 3
   },
   "file_extension": ".py",
   "mimetype": "text/x-python",
   "name": "python",
   "nbconvert_exporter": "python",
   "pygments_lexer": "ipython3",
   "version": "3.10.13"
  }
 },
 "nbformat": 4,
 "nbformat_minor": 2
}
