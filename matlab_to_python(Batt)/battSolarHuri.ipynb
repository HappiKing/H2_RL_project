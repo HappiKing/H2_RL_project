{
 "cells": [
  {
   "cell_type": "markdown",
   "metadata": {},
   "source": [
    "## 배터리 최적화(휴리스틱)"
   ]
  },
  {
   "cell_type": "markdown",
   "metadata": {},
   "source": [
    "### 데이터 전처리"
   ]
  },
  {
   "cell_type": "code",
   "execution_count": 74,
   "metadata": {},
   "outputs": [
    {
     "name": "stdout",
     "output_type": "stream",
     "text": [
      "자료형: <class 'numpy.ndarray'> 차원 (228, 1)\n",
      "자료형: <class 'numpy.ndarray'> 차원 (228, 1)\n",
      "자료형: <class 'numpy.ndarray'> 차원 (228, 1)\n",
      "자료형: <class 'numpy.ndarray'> 차원 (228, 1)\n",
      "자료형: <class 'numpy.ndarray'> 차원 (228, 1)\n"
     ]
    }
   ],
   "source": [
    "from scipy.io import loadmat\n",
    "import numpy as np\n",
    "np.set_printoptions(formatter={'float': '{:0.5f}'.format})\n",
    "\n",
    "import pandas as pd\n",
    "\n",
    "\n",
    "# .mat 파일 로드\n",
    "data = loadmat('pvLoadPriceData_test.mat')\n",
    "\n",
    "# 데이터 추출 예시\n",
    "# MATLAB 파일 내에 있는 변수 이름을 정확히 알아야 합니다. time, cloudyDay, clearDay, loadData, costData\n",
    "time = data['time'].flatten().reshape(-1, 1)\n",
    "\n",
    "cloudyDay = data['cloudyDay'].flatten().reshape(-1, 1)\n",
    "\n",
    "clearDay = data['clearDay'].flatten().reshape(-1, 1)\n",
    "\n",
    "loadData = data['loadData'][:, 2].reshape(-1, 1)\n",
    "\n",
    "costData = data['costData'].flatten().reshape(-1, 1)\n",
    "\n",
    "print(\"자료형:\", type(time), \"차원\" , time.shape, )\n",
    "print(\"자료형:\", type(cloudyDay), \"차원\" , cloudyDay.shape, )\n",
    "print(\"자료형:\", type(clearDay), \"차원\" , clearDay.shape, )\n",
    "print(\"자료형:\", type(loadData), \"차원\" , loadData.shape, )\n",
    "print(\"자료형:\", type(costData), \"차원\" , costData.shape, )\n",
    "\n"
   ]
  },
  {
   "cell_type": "markdown",
   "metadata": {},
   "source": [
    "### 데이터 처리"
   ]
  },
  {
   "cell_type": "code",
   "execution_count": 75,
   "metadata": {},
   "outputs": [
    {
     "name": "stderr",
     "output_type": "stream",
     "text": [
      "/var/folders/4j/gkyhxcv573j8gxl2r220cymm0000gn/T/ipykernel_11769/2575060488.py:25: DeprecationWarning: Conversion of an array with ndim > 0 to a scalar is deprecated, and will error in future. Ensure you extract a single element from your array before performing this operation. (Deprecated NumPy 1.25.)\n",
      "  stepAdjust = int((timeOptimize * 60) / (time[1] - time[0]))\n"
     ]
    }
   ],
   "source": [
    "import numpy as np\n",
    "import matlab.engine\n",
    "import numpy as np\n",
    "\n",
    "# Load Power Data from Existing PV array\n",
    "# Assuming pvLoadPriceData is already loaded from file\n",
    "\n",
    "# Set up Optimization Parameters\n",
    "numDays = 1  # Number of consecutive days\n",
    "FinalWeight = 1.0  # Final weight on energy storage\n",
    "timeOptimize = 5  # Time step for optimization [min]\n",
    "\n",
    "# Battery/PV parameters\n",
    "panelArea = 2500\n",
    "panelEff = 0.3\n",
    "\n",
    "battEnergy = 2500 * 3.6e6\n",
    "Einit = 0.5 * battEnergy\n",
    "batteryMinMaxEmax = 0.8 * battEnergy\n",
    "batteryMinMaxEmin = 0.2 * battEnergy\n",
    "batteryMinMaxPmin = -400e3\n",
    "batteryMinMaxPmax = 400e3\n",
    "\n",
    "# Rescale data to align with desired time steps\n",
    "stepAdjust = int((timeOptimize * 60) / (time[1] - time[0]))\n",
    "cloudyPpv = panelArea * panelEff * np.tile(cloudyDay[2::stepAdjust], (numDays, 1))\n",
    "clearPpv = panelArea * panelEff * np.tile(clearDay[1::stepAdjust], (numDays, 1))\n",
    "\n",
    "# Adjust and Select Loading\n",
    "loadSelect = 1\n",
    "loadBase = 350e3\n",
    "loadFluc = np.tile(loadData[1::stepAdjust], (numDays, 1)) + loadBase\n",
    "\n",
    "# # Grid Price Values [$/kWh]\n",
    "C = np.tile(costData[1::stepAdjust], (numDays, 1))\n",
    "\n",
    "# Select Desired Data for Optimization\n",
    "Ppv = clearPpv\n",
    "# Ppv = cloudyPpv\n",
    "Pload = loadFluc\n",
    "\n",
    "# Setup Time Vectors\n",
    "dt = timeOptimize * 60.0\n",
    "N = numDays * (len(time[::stepAdjust]) - 1) * 1.0\n",
    "tvec = np.arange(1, N + 1) * dt"
   ]
  },
  {
   "cell_type": "markdown",
   "metadata": {},
   "source": [
    "### 배터리 최적화(휴리스틱 최적화)"
   ]
  },
  {
   "cell_type": "code",
   "execution_count": 91,
   "metadata": {},
   "outputs": [
    {
     "name": "stdout",
     "output_type": "stream",
     "text": [
      "0 Light\n",
      "1 Light\n",
      "2 Light\n",
      "3 Light\n",
      "4 Light\n",
      "5 Light\n",
      "6 Light\n",
      "7 Light\n",
      "8 Light\n",
      "9 Light\n",
      "10 Light\n",
      "11 Light\n",
      "12 Light\n",
      "13 Light\n",
      "14 Light\n",
      "15 Light\n",
      "16 Light\n",
      "17 Light\n",
      "18 Light\n",
      "19 Light\n",
      "20 Light\n",
      "21 Light\n",
      "22 Light\n",
      "23 Light\n",
      "24 Light\n",
      "25 Light\n",
      "26 Light\n",
      "27 Light\n",
      "28 Light\n",
      "29 Light\n",
      "30 Light\n",
      "31 Light\n",
      "32 Light\n",
      "33 Light\n",
      "34 Light\n",
      "35 Light\n",
      "36 Light\n",
      "37 Light\n",
      "38 Light\n",
      "39 Light\n",
      "40 Light\n",
      "41 Light\n",
      "42 Light\n",
      "43 Light\n",
      "44 Light\n",
      "45 Light\n",
      "46 Light\n",
      "47 Light\n",
      "48 Light\n",
      "49 Light\n",
      "50 Light\n",
      "51 Light\n",
      "52 Light\n",
      "53 Light\n",
      "54 Light\n",
      "55 Light\n",
      "56 Light\n",
      "57 Light\n",
      "58 Light\n",
      "59 Light\n",
      "60 Light\n",
      "61 Light\n",
      "62 Light\n",
      "63 Light\n",
      "64 Light\n",
      "65 Light\n",
      "66 Light\n",
      "67 Light\n",
      "68 Light\n",
      "69 Light\n",
      "70 Light\n",
      "71 Light\n",
      "72 Light\n",
      "73 Light\n",
      "74 Light\n",
      "75 Light\n",
      "76 Light\n",
      "77 Light\n",
      "78 Light\n",
      "79 Light\n",
      "80 Light\n",
      "81 Light\n",
      "82 Light\n",
      "83 Light\n",
      "84 Light\n",
      "85 Light\n",
      "86 Light\n",
      "87 Light\n",
      "88 Light\n",
      "89 Light\n",
      "90 Light\n",
      "91 Light\n",
      "92 Light\n",
      "93 Light\n",
      "94 Light\n",
      "95 Medium\n",
      "96 Medium\n",
      "97 Medium\n",
      "98 Medium\n",
      "99 Medium\n",
      "100 Medium\n",
      "101 Medium\n",
      "102 Medium\n",
      "103 Medium\n",
      "104 Medium\n",
      "105 Medium\n",
      "106 Medium\n",
      "107 Medium\n",
      "108 Medium\n",
      "109 Medium\n",
      "110 Medium\n",
      "111 Medium\n",
      "112 Medium\n",
      "113 Medium\n",
      "114 Medium\n",
      "115 Medium\n",
      "116 Medium\n",
      "117 Medium\n",
      "118 Medium\n",
      "119 Medium\n",
      "120 Medium\n",
      "121 Medium\n",
      "122 Medium\n",
      "123 Medium\n",
      "124 Medium\n",
      "125 Medium\n",
      "126 Medium\n",
      "127 Medium\n",
      "128 Medium\n",
      "129 Medium\n",
      "130 Medium\n",
      "131 Heavy\n",
      "132 Heavy\n",
      "133 Heavy\n",
      "134 Heavy\n",
      "135 Heavy\n",
      "136 Heavy\n",
      "137 Heavy\n",
      "138 Heavy\n",
      "139 Heavy\n",
      "140 Heavy\n",
      "141 Heavy\n",
      "142 Heavy\n",
      "143 Medium\n",
      "144 Medium\n",
      "145 Medium\n",
      "146 Medium\n",
      "147 Medium\n",
      "148 Medium\n",
      "149 Medium\n",
      "150 Medium\n",
      "151 Medium\n",
      "152 Medium\n",
      "153 Medium\n",
      "154 Medium\n",
      "155 Heavy\n",
      "156 Heavy\n",
      "157 Heavy\n",
      "158 Heavy\n",
      "159 Heavy\n",
      "160 Heavy\n",
      "161 Heavy\n",
      "162 Heavy\n",
      "163 Heavy\n",
      "164 Heavy\n",
      "165 Heavy\n",
      "166 Heavy\n",
      "167 Heavy\n",
      "168 Heavy\n",
      "169 Heavy\n",
      "170 Heavy\n",
      "171 Heavy\n",
      "172 Heavy\n",
      "173 Heavy\n",
      "174 Heavy\n",
      "175 Heavy\n",
      "176 Heavy\n",
      "177 Heavy\n",
      "178 Heavy\n",
      "179 Heavy\n",
      "180 Heavy\n",
      "181 Heavy\n",
      "182 Heavy\n",
      "183 Heavy\n",
      "184 Heavy\n",
      "185 Heavy\n",
      "186 Heavy\n",
      "187 Heavy\n",
      "188 Heavy\n",
      "189 Heavy\n",
      "190 Heavy\n",
      "191 Heavy\n",
      "192 Heavy\n",
      "193 Heavy\n",
      "194 Heavy\n",
      "195 Heavy\n",
      "196 Heavy\n",
      "197 Heavy\n",
      "198 Heavy\n",
      "199 Heavy\n",
      "200 Heavy\n",
      "201 Heavy\n",
      "202 Heavy\n",
      "203 Heavy\n",
      "204 Heavy\n",
      "205 Heavy\n",
      "206 Heavy\n",
      "207 Heavy\n",
      "208 Heavy\n",
      "209 Heavy\n",
      "210 Heavy\n",
      "211 Heavy\n",
      "212 Heavy\n",
      "213 Heavy\n",
      "214 Heavy\n",
      "215 Medium\n",
      "216 Medium\n",
      "217 Medium\n",
      "218 Medium\n",
      "219 Medium\n",
      "220 Medium\n",
      "221 Medium\n",
      "222 Medium\n",
      "223 Medium\n",
      "224 Medium\n",
      "225 Medium\n",
      "226 Medium\n"
     ]
    }
   ],
   "source": [
    "def rule_based_control(Ppv, Pload, Ebatt, minSOC, maxSOC, Pmin, Pmax, time):\n",
    "    Pgrid = np.zeros_like(Pload)  # 전력 그리드 초기화\n",
    "    Pbatt = np.zeros_like(Pload)  # 배터리 전력 초기화\n",
    "    Pcmd = np.zeros_like(Pload)   # 명령 전력 초기화\n",
    "\n",
    "    for i in range(len(Pload)):\n",
    "        # 배터리 충전량이 최소 SOC 이하인지 확인\n",
    "        if Ebatt <= minSOC:\n",
    "            # 부하 감축: 태양광 발전량이 부족하여 그리드로부터 전력을 가져옴\n",
    "            Pgrid[i] = max(0, Pload[i] - Ppv[i])\n",
    "            \n",
    "        # 시간이 지정된 시간 범위 내에 있는지 확인\n",
    "        # 8~11, 12~13, 18~22 \n",
    "        elif (28800 <= time[i] < 39600 or 43200 <= time[i] < 46800 or 64800 <= time[i] < 79200) and minSOC < Ebatt < maxSOC:\n",
    "            print(i, \"Medium\")\n",
    "            # 부하가 태양광보다 클 때\n",
    "            if Pload[i] > Ppv[i]:\n",
    "                if Pload[i] - Ppv[i] < Pmin:\n",
    "                    # 충전: 배터리를 태양광 발전량으로 충전함\n",
    "                    Pbatt[i] = min(Ppv[i] - Pload[i], maxSOC - Ebatt)\n",
    "                    Ebatt += Pbatt[i]\n",
    "                else:\n",
    "                    # MPPT 끔: 배터리 충전량이 최대 충전 가능량을 초과함\n",
    "                    Pbatt[i] = 0\n",
    "                    Pcmd[i] = Pmin\n",
    "            # 태양광이 부하보다 클 때\n",
    "            elif Ppv[i] > Pload[i]:\n",
    "                if Ppv[i] - Pload[i] < Pmax: # Pmax -> 수소 탱크 최대 저장량보다 작으면\n",
    "                    # 부하 감축: 태양광 발전량이 부하보다 많으므로 그리드에 전력을 공급하지 않음\n",
    "                    Pgrid[i] = max(0, Pload[i] - Ppv[i]) # -> 잉여 전력을 수소 탱크에 저장하는 코드를 작성\n",
    "                else:\n",
    "                    # Pcmd를 Pmax로 설정: 배터리를 사용하여 그리드에 최대 전력을 공급함\n",
    "                    Pcmd[i] = Pmax # 저장할 수 있는 만큼 저장하고 나머지 전력은 그리드 판매\n",
    "            # Pcmd가 Pmin과 같을 때\n",
    "            if Pcmd[i] == Pmin:\n",
    "                # 방전: 배터리를 사용하여 그리드에 전력을 공급함\n",
    "                Pbatt[i] = min(Ppv[i] - Pload[i], Ebatt - minSOC)\n",
    "                Ebatt -= Pbatt[i]\n",
    "\n",
    "        # 시간이 11-12, 13-18\n",
    "        elif ((39600 <= time[i] < 43200) or (46800 <= time[i] < 64800) or (time[i] >= 79200)) and minSOC < Ebatt < maxSOC:\n",
    "            print(i, \"Heavy\")\n",
    "            # 피크 시간: 그리드에 최대 전력을 공급함\n",
    "            # Pcmd[i] = Pmax\n",
    "\n",
    "        # 22시 이후인 경우\n",
    "        elif ((time[i] >= 79200) or (time[i] < 28800 )) and minSOC < Ebatt < maxSOC:\n",
    "            Pgrid[i] = max(0, Pload[i] - Ppv[i])\n",
    "            print(i, \"Light\")\n",
    "\n",
    "        # 배터리 충전량이 최대 SOC 이상인 경우\n",
    "        elif Ebatt >= maxSOC:\n",
    "            # MPPT 끔: 배터리 충전량이 최대 충전 가능량을 초과함\n",
    "            Pbatt[i] = 0\n",
    "            print(i, \"4\")\n",
    "\n",
    "    return Pgrid, Pbatt, Pcmd\n",
    "\n",
    "# Usage\n",
    "Pgrid, Pbatt, Pcmd= rule_based_control(Ppv, Pload, Einit, batteryMinMaxEmin, batteryMinMaxEmax, batteryMinMaxPmin, batteryMinMaxPmax, time)\n"
   ]
  },
  {
   "cell_type": "markdown",
   "metadata": {},
   "source": [
    "### 그래프 출력"
   ]
  },
  {
   "cell_type": "code",
   "execution_count": 96,
   "metadata": {},
   "outputs": [
    {
     "data": {
      "image/png": "[encoded data removed]",
      "text/plain": [
       "<Figure size 640x480 with 2 Axes>"
      ]
     },
     "metadata": {},
     "output_type": "display_data"
    }
   ],
   "source": [
    "import matplotlib.pyplot as plt\n",
    "\n",
    "thour = tvec / 3600\n",
    "\n",
    "Ppv = np.array(Ppv)\n",
    "Pload = np.array(Pload)\n",
    "\n",
    "\n",
    "plt.subplot(3, 1, 2)\n",
    "# Assuming C is grid price\n",
    "plt.plot(thour, C)\n",
    "plt.grid(True)\n",
    "plt.xlabel('Time [hrs]')\n",
    "plt.ylabel('Grid Price [$/kWh]')\n",
    "\n",
    "plt.subplot(3, 1, 3)\n",
    "# Assuming Ppv, Pbatt, Pgrid, Pload are obtained from battSolarOptimize\n",
    "plt.plot(thour, Ppv, thour, Pbatt , thour, Pgrid, thour, Pload)\n",
    "plt.grid(True)\n",
    "plt.legend(['PV', 'ESS', 'Grid', 'Load'])\n",
    "plt.xlabel('Time [hrs]')\n",
    "plt.ylabel('Power [kW]')\n",
    "\n",
    "plt.show()\n"
   ]
  },
  {
   "cell_type": "markdown",
   "metadata": {},
   "source": [
    "### 비용 계산"
   ]
  },
  {
   "cell_type": "code",
   "execution_count": 93,
   "metadata": {},
   "outputs": [],
   "source": [
    "cumulativeCost = np.cumsum(Pgrid * (dt / 3600) * C)"
   ]
  },
  {
   "cell_type": "code",
   "execution_count": 94,
   "metadata": {},
   "outputs": [
    {
     "data": {
      "text/plain": [
       "Text(0, 0.5, 'Cost[cent-kwh]')"
      ]
     },
     "execution_count": 94,
     "metadata": {},
     "output_type": "execute_result"
    },
    {
     "data": {
      "text/plain": [
       "<Figure size 640x480 with 0 Axes>"
      ]
     },
     "metadata": {},
     "output_type": "display_data"
    },
    {
     "data": {
      "image/png": "[encoded data removed]",
      "text/plain": [
       "<Figure size 640x480 with 1 Axes>"
      ]
     },
     "metadata": {},
     "output_type": "display_data"
    }
   ],
   "source": [
    "plt.figure()\n",
    "\n",
    "plt.figure()\n",
    "plt.subplot(3, 1, 1)\n",
    "# Assuming Ebatt, Pbatt, Pgrid are obtained from battSolarOptimize\n",
    "plt.plot(thour, cumulativeCost)\n",
    "plt.grid(True)\n",
    "plt.xlabel('Time [hrs]')\n",
    "plt.ylabel('Cost[cent-kwh]')"
   ]
  },
  {
   "cell_type": "code",
   "execution_count": 95,
   "metadata": {},
   "outputs": [
    {
     "data": {
      "text/plain": [
       "4065.7500737795885"
      ]
     },
     "execution_count": 95,
     "metadata": {},
     "output_type": "execute_result"
    }
   ],
   "source": [
    "cumulativeCost[-1] * 10e-6"
   ]
  }
 ],
 "metadata": {
  "kernelspec": {
   "display_name": "hb",
   "language": "python",
   "name": "python3"
  },
  "language_info": {
   "codemirror_mode": {
    "name": "ipython",
    "version": 3
   },
   "file_extension": ".py",
   "mimetype": "text/x-python",
   "name": "python",
   "nbconvert_exporter": "python",
   "pygments_lexer": "ipython3",
   "version": "3.10.13"
  }
 },
 "nbformat": 4,
 "nbformat_minor": 2
}
